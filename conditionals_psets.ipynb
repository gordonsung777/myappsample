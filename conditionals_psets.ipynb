{
  "nbformat": 4,
  "nbformat_minor": 0,
  "metadata": {
    "colab": {
      "name": "conditionals_psets.ipynb",
      "provenance": [],
      "collapsed_sections": [],
      "include_colab_link": true
    },
    "kernelspec": {
      "name": "python3",
      "display_name": "Python 3"
    }
  },
  "cells": [
    {
      "cell_type": "markdown",
      "metadata": {
        "id": "view-in-github",
        "colab_type": "text"
      },
      "source": [
        "<a href=\"https://colab.research.google.com/github/gordonsung777/myappsample/blob/master/conditionals_psets.ipynb\" target=\"_parent\"><img src=\"https://colab.research.google.com/assets/colab-badge.svg\" alt=\"Open In Colab\"/></a>"
      ]
    },
    {
      "cell_type": "markdown",
      "metadata": {
        "id": "FiL9pv11VtnR",
        "colab_type": "text"
      },
      "source": [
        "#  CONDITIONALS\n",
        "\n",
        "\n"
      ]
    },
    {
      "cell_type": "markdown",
      "metadata": {
        "id": "gijpYMCLV00L",
        "colab_type": "text"
      },
      "source": [
        "## WEATHER"
      ]
    },
    {
      "cell_type": "markdown",
      "metadata": {
        "id": "KL7ytXn4V2WB",
        "colab_type": "text"
      },
      "source": [
        "### P1.PY"
      ]
    },
    {
      "cell_type": "code",
      "metadata": {
        "id": "e32ChHBAVtnU",
        "colab_type": "code",
        "colab": {}
      },
      "source": [
        "\"\"\"\n",
        "Weather I - Do you need boots?\n",
        "\"\"\"\n",
        "\n",
        "# Use the values of the vars defined below to ouput the correct contextual answer to the questions below. (Note: The variables themselves ARE the questions.)\n",
        "\n",
        "# Example:\n",
        "## am_i_hungry = False\n",
        "## am_i_tired = True\n",
        "## do_i_need_to_stay_awake = False\n",
        "\n",
        "## should_i_drink_coffee_now = am_i_tired and do_i_need_to_stay_awake\n",
        "\n",
        "## ^^ This ^^ evaluates to False. If you're tired and don't need to stay awake, you don't need to drink coffee!\n",
        "\n",
        "\n",
        "is_it_raining = True\n",
        "is_it_snowing = False\n",
        "\n",
        "\n",
        "do_i_need_snow_boots = (is_it_snowing == True)\n",
        "can_i_skip_snow_boots = (is_it_snowing == False)\n",
        "do_i_need_rain_boots = (is_it_raining == True)\n",
        "can_i_skip_rain_boots = (is_it_raining == True)"
      ],
      "execution_count": 0,
      "outputs": []
    },
    {
      "cell_type": "markdown",
      "metadata": {
        "id": "t9cxGL-8VtnX",
        "colab_type": "text"
      },
      "source": [
        "\n",
        "\n",
        "### P2.PY\n",
        "\n",
        "\n"
      ]
    },
    {
      "cell_type": "code",
      "metadata": {
        "id": "y80DTzliVtnY",
        "colab_type": "code",
        "colab": {}
      },
      "source": [
        "\"\"\"\n",
        "Weather II - Precipitation\n",
        "\"\"\"\n",
        "\n",
        "# Repeat the same process as p1, using this new set of variables.\n",
        "\n",
        "sunny = True\n",
        "raining = True\n",
        "snowing = False\n",
        "\n",
        "is_it_sunny = None\n",
        "is_there_precipitation = (raining == True) or (snowing == True) #raining or snowing \n",
        "is_it_sleeting = raining or snowing \n",
        "is_there_rainbow = sunny and raining "
      ],
      "execution_count": 0,
      "outputs": []
    },
    {
      "cell_type": "markdown",
      "metadata": {
        "id": "777sx1WCVtno",
        "colab_type": "text"
      },
      "source": [
        "\n",
        "\n",
        "### P3.PY\n",
        "\n",
        "\n"
      ]
    },
    {
      "cell_type": "code",
      "metadata": {
        "id": "9dNGqX2wVtnp",
        "colab_type": "code",
        "colab": {}
      },
      "source": [
        "\"\"\"\n",
        "Weather III - Describe Conditions\n",
        "\"\"\"\n",
        "\n",
        "# Repeat the same process as p1, using this new set of variables.\n",
        "\n",
        "\n",
        "is_it_warm = True\n",
        "is_it_humid = True\n",
        "is_it_cold = False\n",
        "is_it_icy = False\n",
        "is_it_foggy = False\n",
        "is_it_windy = False\n",
        "is_it_overcast = True\n",
        "\n",
        "\n",
        "is_it_summer_weather = None\n",
        "is_rain_coming = None\n",
        "is_it_muggy = None\n",
        "do_i_need_coat = None\n",
        "\n"
      ],
      "execution_count": 0,
      "outputs": []
    },
    {
      "cell_type": "markdown",
      "metadata": {
        "id": "c70y61m1Vtn3",
        "colab_type": "text"
      },
      "source": [
        "## LOGIC\n",
        "\n",
        "\n"
      ]
    },
    {
      "cell_type": "markdown",
      "metadata": {
        "id": "6IGtJU8oV5a8",
        "colab_type": "text"
      },
      "source": [
        "### P1.PY"
      ]
    },
    {
      "cell_type": "code",
      "metadata": {
        "id": "8dx3WRHBVtn4",
        "colab_type": "code",
        "colab": {}
      },
      "source": [
        "\"\"\"\n",
        "Calculate Grade\n",
        "\"\"\"\n",
        "\n",
        "grade = 15  # expect this to be a number\n",
        "\n",
        "# write a program that will print the \"letter\"\n",
        "# equivalent of the grade, for example:\n",
        "# when grade = 90 # -> expect A\n",
        "# when grade = 80 # -> expect B\n",
        "# when grade = 70 # -> expect C\n",
        "# when grade = 60 # -> expect D\n",
        "# when grade = 54 # -> expect F\n",
        "# when grade = -10 # -> expect Error\n",
        "# when grade = 10000 # -> expect Error\n",
        "# when grade = \"lol skool sucks\" # -> expect Error\n",
        "\n",
        "\n",
        "\n",
        "\n",
        "def userGrade():\n",
        "\n",
        "    grade = 15\n",
        "    print(\"The following grade is \" + str(grade))\n",
        "    if (grade <= 100 and grade >= 90):\n",
        "        return \"User receives grade A\"\n",
        "    elif (grade <90 and grade >= 80):\n",
        "        return \"User receives grade B\"\n",
        "    elif (grade <80 and grade >=70):\n",
        "        return \"User receives grade C\"\n",
        "    elif (grade <70 and grade >=60):\n",
        "        return \"User receives grade D\"\n",
        "    elif (grade <60 and grade >=54):\n",
        "        return \"User receives F\"\n",
        "    elif (grade == -10):\n",
        "        return \"Error!\"\n",
        "    elif (grade == 10000):\n",
        "        return \"lol school sucks\"\n",
        "    else:\n",
        "        return \"Error Again!\"\n",
        "\n",
        "print(userGrade())\n",
        "\n"
      ],
      "execution_count": 0,
      "outputs": []
    },
    {
      "cell_type": "markdown",
      "metadata": {
        "id": "HLfJLQFKVtoK",
        "colab_type": "text"
      },
      "source": [
        "\n",
        "\n",
        "### P2.PY\n",
        "\n",
        "\n"
      ]
    },
    {
      "cell_type": "code",
      "metadata": {
        "id": "g3fT3CxqVtoO",
        "colab_type": "code",
        "outputId": "46123d8e-a485-4b6b-df0f-f820b21f7637",
        "colab": {
          "base_uri": "https://localhost:8080/",
          "height": 85
        }
      },
      "source": [
        "\"\"\"\n",
        "Sign of Product\n",
        "\"\"\"\n",
        "\n",
        "# Given three numbers, a, b, c, without multiplying, determine the sign of their product.\n",
        "\n",
        "# EXAMPLE: a = -5, b = 6, c = -4, print 1\n",
        "\n",
        "# EXAMPLE: a = 5, b = 6, c = -4, print -1\n",
        "\n",
        "\n",
        "a = int(input(\"Provide a integer for 'a' \"))\n",
        "b = int(input(\"Provide a integer for 'b' \"))\n",
        "c = int(input(\"Provide a integer for 'c' \"))\n",
        "\n",
        "def variableSigns(a, b, c):\n",
        "    if (a < 0) and (b < 0) and (c < 0):\n",
        "        return \"The product is negative\"\n",
        "    elif (a < 0) and (b < 0) and (c > 0):\n",
        "        return \"The product is positive\"\n",
        "    elif (a < 0) and (b > 0) and (c > 0):\n",
        "        return \"The product is negative\"\n",
        "    elif (a < 0) and (b > 0) and (c < 0):\n",
        "        return \"The product is positive\"\n",
        "    elif (a > 0) and (b > 0) and (c > 0):\n",
        "        return \"The product is positive\"\n",
        "    elif (a > 0) and (b < 0) and (c < 0):\n",
        "        return \"The product is positive\"\n",
        "    elif (a > 0) and (b > 0) and (c < 0):\n",
        "        return \"The product is negative\"\n",
        "    elif (a < 0) and (b > 0) and (c > 0):\n",
        "        return \"The product is negative\"\n",
        "    elif (a < 0) and (b > 0) and (c < 0):\n",
        "        return \"The product is positive\"\n",
        "    else:\n",
        "        return \"The product is neither negative nor positive; it is zero\"\n",
        "\n",
        "print(variableSigns(a, b, c))"
      ],
      "execution_count": 0,
      "outputs": [
        {
          "output_type": "stream",
          "text": [
            "Provide a integer for 'a' 2\n",
            "Provide a integer for 'b' -3\n",
            "Provide a integer for 'c' -2\n",
            "The product is positive\n"
          ],
          "name": "stdout"
        }
      ]
    },
    {
      "cell_type": "markdown",
      "metadata": {
        "id": "eUuhYKriVtoS",
        "colab_type": "text"
      },
      "source": [
        "\n",
        "\n",
        "### P3.PY\n",
        "\n",
        "\n"
      ]
    },
    {
      "cell_type": "code",
      "metadata": {
        "id": "gtAMAAaYVtoT",
        "colab_type": "code",
        "outputId": "87811bb8-7874-48d1-ccd0-c0be4da1a4d6",
        "colab": {
          "base_uri": "https://localhost:8080/",
          "height": 170
        }
      },
      "source": [
        "\"\"\"\n",
        "Any Uppercase\n",
        "\"\"\"\n",
        "\n",
        "# Given a string str, determine if there are any uppercase values in it. Use only conditional statements and string methods (you may have to look some up!)\n",
        "\n",
        "# EXAMPLE: str = \"teSt\", print True\n",
        "\n",
        "\n",
        "uppercaseVar = input(\"Provide me a string: \")\n",
        "\n",
        "for u in uppercaseVar:\n",
        "    if (u.isupper() == True):\n",
        "        print(\"There is an upperCase. The upper case letter is \" + u)\n",
        "    else:\n",
        "        print(\"There are no upperCases\")"
      ],
      "execution_count": 0,
      "outputs": [
        {
          "output_type": "stream",
          "text": [
            "Provide me a string: hellOabC\n",
            "There are no upperCases\n",
            "There are no upperCases\n",
            "There are no upperCases\n",
            "There are no upperCases\n",
            "There is an upperCase. The upper case letter is O\n",
            "There are no upperCases\n",
            "There are no upperCases\n",
            "There is an upperCase. The upper case letter is C\n"
          ],
          "name": "stdout"
        }
      ]
    },
    {
      "cell_type": "markdown",
      "metadata": {
        "id": "wG8CE6QTVtoW",
        "colab_type": "text"
      },
      "source": [
        "\n",
        "\n",
        "### P4.PY\n",
        "\n",
        "\n"
      ]
    },
    {
      "cell_type": "code",
      "metadata": {
        "id": "xZ5Mt4jSVtoX",
        "colab_type": "code",
        "outputId": "eedd5539-139c-426b-d65d-6609a83562c9",
        "colab": {
          "base_uri": "https://localhost:8080/",
          "height": 34
        }
      },
      "source": [
        "\"\"\"\n",
        "Empty Strings\n",
        "\"\"\"\n",
        "\n",
        "# Given any empty string, of the form:\n",
        "\n",
        "# ''\n",
        "# ' '\n",
        "# '  '\n",
        "# any other num of spaces...\n",
        "\n",
        "# determine if the str is empty or not (print True or False). Hint: You'll need to look up how to remove trailing spaces from a string.\n",
        "\n",
        "def isEmptyString(emptyStr):\n",
        "    if len(emptyStr) == 0 or len(emptyStr.strip()) == 0:\n",
        "        return \"The string is empty\"\n",
        "    else:\n",
        "        return \"The string is NOT empty \"\n",
        "\n",
        "emptyStr1 = \"\"\n",
        "print(isEmptyString(emptyStr1))\n"
      ],
      "execution_count": 0,
      "outputs": [
        {
          "output_type": "stream",
          "text": [
            "The string is empty\n"
          ],
          "name": "stdout"
        }
      ]
    },
    {
      "cell_type": "markdown",
      "metadata": {
        "id": "WlgQdALoVtof",
        "colab_type": "text"
      },
      "source": [
        "\n",
        "\n",
        "### P5.PY\n",
        "\n",
        "\n"
      ]
    },
    {
      "cell_type": "code",
      "metadata": {
        "id": "7_k9rebsVtog",
        "colab_type": "code",
        "colab": {}
      },
      "source": [
        "\"\"\"\n",
        "truthTableEvaluator\n",
        "\"\"\"\n",
        "\n",
        "# Given the following inputs:\n",
        "\n",
        "\n",
        "# P = # True or False\n",
        "# Q = # True or False\n",
        "# op = # '^' (logical AND, conjunction)\n",
        "#      # OR, 'v' (logical OR, disjunction)\n",
        "#      # OR, '->' (logical conditional, implication)\n",
        "#      # OR, '<->' (biconditional)\n",
        "# determine the correct outcome.\n",
        "\n",
        "# https://medium.com/i-math/intro-to-truth-tables-boolean-algebra-73b331dd9b94\n",
        "\n",
        "\n"
      ],
      "execution_count": 0,
      "outputs": []
    },
    {
      "cell_type": "markdown",
      "metadata": {
        "id": "zayFQdU7Vto2",
        "colab_type": "text"
      },
      "source": [
        "## RANDOM NUMBERS\n",
        "\n",
        "\n",
        "\n",
        "\n"
      ]
    },
    {
      "cell_type": "markdown",
      "metadata": {
        "id": "dKy0tAlimae6",
        "colab_type": "text"
      },
      "source": [
        ""
      ]
    },
    {
      "cell_type": "markdown",
      "metadata": {
        "id": "gtAK4fQAV9BC",
        "colab_type": "text"
      },
      "source": [
        "### P1.PY"
      ]
    },
    {
      "cell_type": "code",
      "metadata": {
        "id": "_dlFvP4QVto3",
        "colab_type": "code",
        "colab": {}
      },
      "source": [
        "\"\"\"\n",
        "Generate Traffic Light\n",
        "\"\"\"\n",
        "\n",
        "# import python randomint package\n",
        "\n",
        "\n",
        "# generates a random number from 1 to 3\n",
        "\n",
        "\n",
        "# if 1, print 'red'\n",
        "# if 2, print 'green',\n",
        "# if 3, print 'yellow'\n",
        "\n",
        "import random\n",
        "\n",
        "r1 = random.randint(1,3)\n",
        "print(\"r1 is \" + str(r1) + \"\\n\")\n",
        "if (r1 == 1):\n",
        "    print(\"red\")\n",
        "elif (r1 == 2):\n",
        "    print(\"green\")\n",
        "else:\n",
        "    print(\"yellow\")\n",
        "\n",
        "\n"
      ],
      "execution_count": 0,
      "outputs": []
    },
    {
      "cell_type": "markdown",
      "metadata": {
        "id": "nO0LSd8SVto5",
        "colab_type": "text"
      },
      "source": [
        "\n",
        "\n",
        "### P2.PY\n",
        "\n",
        "\n"
      ]
    },
    {
      "cell_type": "code",
      "metadata": {
        "id": "Dp5jFc2fVtpF",
        "colab_type": "code",
        "colab": {}
      },
      "source": [
        "\"\"\"\n",
        "Generate Phone Number w/Area Code\n",
        "\"\"\"\n",
        "\n",
        "# Generate a random phone number using these SPECS:\n",
        "### Should be a string in this format: 1-718-786-2825\n",
        "### Must randomly choose one of these area codes: 646, 718, 212\n",
        "\n",
        "import random\n",
        "\n",
        "areaCode = ['646', '718', '212']\n",
        "rand_AreaCode = areaCode[random.randrange(len(areaCode))]\n",
        "\n",
        "first = random.randint(100,999)\n",
        "second = random.randint(1000,9999)\n",
        "print(\"1-\" + str(rand_AreaCode) + \"-\" + str(first) + \"-\" + str(second))\n",
        "\n"
      ],
      "execution_count": 0,
      "outputs": []
    },
    {
      "cell_type": "markdown",
      "metadata": {
        "id": "gRweE3nDVtpK",
        "colab_type": "text"
      },
      "source": [
        "## RPS\n",
        "\n",
        "\n"
      ]
    },
    {
      "cell_type": "markdown",
      "metadata": {
        "id": "IFUwrDumV_Vn",
        "colab_type": "text"
      },
      "source": [
        "### P1.PY"
      ]
    },
    {
      "cell_type": "code",
      "metadata": {
        "id": "sYTmAYzDVtpL",
        "colab_type": "code",
        "colab": {}
      },
      "source": [
        "\"\"\"\n",
        "Play RPS\n",
        "\"\"\"\n",
        "\"\"\"\n",
        "p1 = 'r'  # or 'p' or 's'\n",
        "p2 = 'r'  # or 'p' or 's'\n",
        "\"\"\"\n",
        "# Given a p1 and p2\n",
        "# print 1 if p1 has won\n",
        "# print 2 if p2 has won\n",
        "# print 0 if tie\n",
        "# print -1 if invalid input\n",
        "# expects both p1 and p2 inputs to be either\n",
        "# \"r\", \"p\", or \"s\"\n",
        "\n",
        "\n",
        "result = False\n",
        "\n",
        "while result == False:\n",
        "#set player to True\n",
        "    player = input(\"Player1, please choose Rock, Paper, Scissors?\")\n",
        "    player2 = input(\"Player2, please choose Rock, Paper, Scissors?\")\n",
        "\n",
        "    if player == \"Rock\" or player == \"rock\":\n",
        "        if player2 == \"Paper\" or player2 == \"paper\":\n",
        "            print(\"You lose!\", player2, \"covers\", player, \"p2 wins!\")\n",
        "        elif player2 == \"Scissors\" or player2 == \"scissors\":\n",
        "            print(\"You win!\", player, \"smashes\", player2, \"p1 wins!\")\n",
        "        elif player2 == \"Rock\" or player2 == \"rock\":\n",
        "            print(\"It is a tie!\")\n",
        "        else:\n",
        "            print(\"It is -1! You inputted an incorrect choice. Choose, Rock, Paper or scissors!\")\n",
        "    elif player == \"Paper\" or player == \"paper\":\n",
        "        if player2 == \"Scissors\" or player2 == \"scissors\":\n",
        "            print(\"You lose!\", player2, \"cut\", player)\n",
        "        elif player2 == \"Rock\" or player2 == \"rock\":\n",
        "            print(\"You win!\", player, \"covers\", player2)\n",
        "        elif player2 == \"Paper\" or player2 == \"Paper\":\n",
        "            print(\"It is a tie!\")\n",
        "        else:\n",
        "            print(\"It is -1! You inputted an incorrect choice. Choose, Rock, Paper or scissors!\")\n",
        "    elif player == \"Scissors\" or player == \"scissors\":\n",
        "        if player2 == \"Rock\" or player2 == \"rock\":\n",
        "            print(\"You lose...\", player2, \"smashes\", player, \"p2 wins!\")\n",
        "        elif player2 == \"Paper\" or player2 == \"paper\":\n",
        "            print(\"You win!\", player, \"cut\", player2, \"p1 wins!\")\n",
        "        elif player2 == \"Scissors\" or player2 == \"scissors\":\n",
        "            print(\"It is a tie!\")\n",
        "        else:\n",
        "            print(\"It is -1! You inputted an incorrect choice. Choose, Rock, Paper or scissors!\")\n",
        "    else:\n",
        "        print(\"It is -1! You inputted an incorrect choice. Choose, Rock, Paper or scissors!\")\n",
        "    #player was set to True, but we want it to be False so the loop continues\n",
        "    Y_or_N = input(\"Do you want to play Rock, Paper, Scissors again? Type Y for yes and N for no:\")\n",
        "\n",
        "    if Y_or_N == \"Y\" or Y_or_N == \"y\":\n",
        "        player = False\n",
        "    elif Y_or_N == \"N\" or Y_or_N == \"n\":\n",
        "        player = True\n",
        "    else:\n",
        "        print(\"You inputted incorrect Value, I am going to end this game.\")\n",
        "        player = True\n",
        "    result = player\n",
        "\n",
        "\n",
        "\n",
        "\n",
        "\n",
        "\n",
        "\n",
        "\n",
        "\n",
        "\n"
      ],
      "execution_count": 0,
      "outputs": []
    },
    {
      "cell_type": "markdown",
      "metadata": {
        "id": "fp77AykMVtpN",
        "colab_type": "text"
      },
      "source": [
        "\n",
        "\n",
        "### P2.PY\n",
        "\n",
        "\n"
      ]
    },
    {
      "cell_type": "code",
      "metadata": {
        "id": "mKMaxGH8VtpO",
        "colab_type": "code",
        "colab": {}
      },
      "source": [
        "\"\"\"\n",
        "Play RPS w/Computer\n",
        "\"\"\"\n",
        "\"\"\"\n",
        "import random\n",
        "\n",
        "p1 = None  # randomly choose 'r' or 'p' or 's'\n",
        "p2 = None  # randomly choose 'r' or 'p' or 's'\n",
        "\"\"\"\n",
        "# Given a p1 and p2\n",
        "# print 1 if p1 has won\n",
        "# print 2 if p2 has won\n",
        "# print 0 if tie\n",
        "# print -1 if invalid input\n",
        "# expects both p1 and p2 inputs to be either\n",
        "# \"r\", \"p\", or \"s\"\n",
        "\n",
        "import random\n",
        "\n",
        "result = False\n",
        "while result == False:\n",
        "#set player to True\n",
        "    r_p_s_choice = {\"rock\", \"paper\", \"scissors\", \"Rock\", \"Paper\", \"Scissors\"}  # set of items\n",
        "    compSelection = str((random.sample(r_p_s_choice, 1))[0])\n",
        "    player2 = input(\"Player2, please choose Rock, Paper, Scissors?\")\n",
        "\n",
        "    if compSelection == \"Rock\" or compSelection == \"rock\":\n",
        "        if player2 == \"Paper\" or player2 == \"paper\":\n",
        "            print(\"You lose!\", player2, \"covers\", compSelection, \"p2 wins!\")\n",
        "        elif player2 == \"Scissors\" or player2 == \"scissors\":\n",
        "            print(\"You win!\", compSelection, \"smashes\", player2, \"p1 wins!\")\n",
        "        elif player2 == \"Rock\" or player2 == \"rock\":\n",
        "            print(\"It is a tie!\")\n",
        "        else:\n",
        "            print(\"It is -1! You inputted an incorrect choice. Choose, Rock, Paper or scissors!\")\n",
        "    elif compSelection == \"Paper\" or compSelection == \"paper\":\n",
        "        if player2 == \"Scissors\" or player2 == \"scissors\":\n",
        "            print(\"You lose!\", player2, \"cut\", compSelection)\n",
        "        elif player2 == \"Rock\" or player2 == \"rock\":\n",
        "            print(\"You win!\", compSelection, \"covers\", player2)\n",
        "        elif player2 == \"Paper\" or player2 == \"Paper\":\n",
        "            print(\"It is a tie!\")\n",
        "        else:\n",
        "            print(\"It is -1! You inputted an incorrect choice. Choose, Rock, Paper or scissors!\")\n",
        "    elif compSelection == \"Scissors\" or compSelection == \"scissors\":\n",
        "        if player2 == \"Rock\" or player2 == \"rock\":\n",
        "            print(\"You lose...\", player2, \"smashes\", compSelection, \"p2 wins!\")\n",
        "        elif player2 == \"Paper\" or player2 == \"paper\":\n",
        "            print(\"You win!\", compSelection, \"cut\", player2, \"p1 wins!\")\n",
        "        elif player2 == \"Scissors\" or player2 == \"scissors\":\n",
        "            print(\"It is a tie!\")\n",
        "        else:\n",
        "            print(\"It is -1! You inputted an incorrect choice. Choose, Rock, Paper or scissors!\")\n",
        "    else:\n",
        "        print(\"It is -1! You inputted an incorrect choice. Choose, Rock, Paper or scissors!\")\n",
        "    #player was set to True, but we want it to be False so the loop continues\n",
        "    Y_or_N = input(\"Do you want to play Rock, Paper, Scissors again? Type Y for yes and N for no:\")\n",
        "\n",
        "    if Y_or_N == \"Y\" or Y_or_N == \"y\":\n",
        "        compSelection = False\n",
        "    elif Y_or_N == \"N\" or Y_or_N == \"n\":\n",
        "        compSelection = True\n",
        "    else:\n",
        "        print(\"You inputted incorrect Value, I am going to end this game.\")\n",
        "        compSelection = True\n",
        "    result = compSelection\n",
        "\n",
        "\n",
        "\n",
        "\n",
        "\n"
      ],
      "execution_count": 0,
      "outputs": []
    },
    {
      "cell_type": "markdown",
      "metadata": {
        "id": "INgOFvdoVtpU",
        "colab_type": "text"
      },
      "source": [
        "\n",
        "\n",
        "### P3.PY\n",
        "\n",
        "\n"
      ]
    },
    {
      "cell_type": "code",
      "metadata": {
        "id": "vhAAHjMSVtpV",
        "colab_type": "code",
        "colab": {}
      },
      "source": [
        "\"\"\"\n",
        "Play RPS w/Input\n",
        "\"\"\"\n",
        "\"\"\"\n",
        "p1 = None  # from user input\n",
        "p2 = None  # from user input\n",
        "\"\"\"\n",
        "# Given a p1 and p2\n",
        "# print 1 if p1 has won\n",
        "# print 2 if p2 has won\n",
        "# print 0 if tie\n",
        "# print -1 if invalid input\n",
        "# expects both p1 and p2 inputs to be either\n",
        "# \"r\", \"p\", or \"s\"\n",
        "\n",
        "\n",
        "\n",
        "result = False\n",
        "\n",
        "while result == False:\n",
        "#set player to True\n",
        "    player = input(\"Player1, please choose Rock, Paper, Scissors?\")\n",
        "    player2 = input(\"Player2, please choose Rock, Paper, Scissors?\")\n",
        "\n",
        "    if player == \"Rock\" or player == \"rock\":\n",
        "        if player2 == \"Paper\" or player2 == \"paper\":\n",
        "            print(\"You lose!\", player2, \"covers\", player, \"p2 wins!\")\n",
        "        elif player2 == \"Scissors\" or player2 == \"scissors\":\n",
        "            print(\"You win!\", player, \"smashes\", player2, \"p1 wins!\")\n",
        "        elif player2 == \"Rock\" or player2 == \"rock\":\n",
        "            print(\"It is a tie!\")\n",
        "        else:\n",
        "            print(\"It is -1! You inputted an incorrect choice. Choose, Rock, Paper or scissors!\")\n",
        "    elif player == \"Paper\" or player == \"paper\":\n",
        "        if player2 == \"Scissors\" or player2 == \"scissors\":\n",
        "            print(\"You lose!\", player2, \"cut\", player)\n",
        "        elif player2 == \"Rock\" or player2 == \"rock\":\n",
        "            print(\"You win!\", player, \"covers\", player2)\n",
        "        elif player2 == \"Paper\" or player2 == \"Paper\":\n",
        "            print(\"It is a tie!\")\n",
        "        else:\n",
        "            print(\"It is -1! You inputted an incorrect choice. Choose, Rock, Paper or scissors!\")\n",
        "    elif player == \"Scissors\" or player == \"scissors\":\n",
        "        if player2 == \"Rock\" or player2 == \"rock\":\n",
        "            print(\"You lose...\", player2, \"smashes\", player, \"p2 wins!\")\n",
        "        elif player2 == \"Paper\" or player2 == \"paper\":\n",
        "            print(\"You win!\", player, \"cut\", player2, \"p1 wins!\")\n",
        "        elif player2 == \"Scissors\" or player2 == \"scissors\":\n",
        "            print(\"It is a tie!\")\n",
        "        else:\n",
        "            print(\"It is -1! You inputted an incorrect choice. Choose, Rock, Paper or scissors!\")\n",
        "    else:\n",
        "        print(\"It is -1! You inputted an incorrect choice. Choose, Rock, Paper or scissors!\")\n",
        "    #player was set to True, but we want it to be False so the loop continues\n",
        "    Y_or_N = input(\"Do you want to play Rock, Paper, Scissors again? Type Y for yes and N for no:\")\n",
        "\n",
        "    if Y_or_N == \"Y\" or Y_or_N == \"y\":\n",
        "        player = False\n",
        "    elif Y_or_N == \"N\" or Y_or_N == \"n\":\n",
        "        player = True\n",
        "    else:\n",
        "        print(\"You inputted incorrect Value, I am going to end this game.\")\n",
        "        player = True\n",
        "    result = player"
      ],
      "execution_count": 0,
      "outputs": []
    },
    {
      "cell_type": "markdown",
      "metadata": {
        "id": "SUqNu57OVtpY",
        "colab_type": "text"
      },
      "source": [
        "\n",
        "\n",
        "### P4.PY\n",
        "\n",
        "\n"
      ]
    },
    {
      "cell_type": "code",
      "metadata": {
        "id": "Vmlr5AqSVtpY",
        "colab_type": "code",
        "colab": {}
      },
      "source": [
        "\"\"\"\n",
        "Play RPS against Computer\n",
        "\"\"\"\n",
        "\"\"\"\n",
        "p1 = None  # from user input - we still want validation from above!\n",
        "p2 = None  # randomly generated against computer\n",
        "\"\"\"\n",
        "# Given a p1 and p2\n",
        "# print 1 if p1 has won\n",
        "# print 2 if p2 has won\n",
        "# print 0 if tie\n",
        "# print -1 if invalid input\n",
        "# expects both p1 and p2 inputs to be either\n",
        "# \"r\", \"p\", or \"s\"\n",
        "\n",
        "import random\n",
        "\n",
        "result = False\n",
        "while result == False:\n",
        "#set player to True\n",
        "    r_p_s_choice = {\"rock\", \"paper\", \"scissors\", \"Rock\", \"Paper\", \"Scissors\"}  # set of items\n",
        "    compSelection = str((random.sample(r_p_s_choice, 1))[0])\n",
        "    player2 = input(\"Player2, please choose Rock, Paper, Scissors?\")\n",
        "\n",
        "    if compSelection == \"Rock\" or compSelection == \"rock\":\n",
        "        if player2 == \"Paper\" or player2 == \"paper\":\n",
        "            print(\"You lose!\", player2, \"covers\", compSelection, \"p2 wins!\")\n",
        "        elif player2 == \"Scissors\" or player2 == \"scissors\":\n",
        "            print(\"You win!\", compSelection, \"smashes\", player2, \"p1 wins!\")\n",
        "        elif player2 == \"Rock\" or player2 == \"rock\":\n",
        "            print(\"It is a tie!\")\n",
        "        else:\n",
        "            print(\"It is -1! You inputted an incorrect choice. Choose, Rock, Paper or scissors!\")\n",
        "    elif compSelection == \"Paper\" or compSelection == \"paper\":\n",
        "        if player2 == \"Scissors\" or player2 == \"scissors\":\n",
        "            print(\"You lose!\", player2, \"cut\", compSelection)\n",
        "        elif player2 == \"Rock\" or player2 == \"rock\":\n",
        "            print(\"You win!\", compSelection, \"covers\", player2)\n",
        "        elif player2 == \"Paper\" or player2 == \"Paper\":\n",
        "            print(\"It is a tie!\")\n",
        "        else:\n",
        "            print(\"It is -1! You inputted an incorrect choice. Choose, Rock, Paper or scissors!\")\n",
        "    elif compSelection == \"Scissors\" or compSelection == \"scissors\":\n",
        "        if player2 == \"Rock\" or player2 == \"rock\":\n",
        "            print(\"You lose...\", player2, \"smashes\", compSelection, \"p2 wins!\")\n",
        "        elif player2 == \"Paper\" or player2 == \"paper\":\n",
        "            print(\"You win!\", compSelection, \"cut\", player2, \"p1 wins!\")\n",
        "        elif player2 == \"Scissors\" or player2 == \"scissors\":\n",
        "            print(\"It is a tie!\")\n",
        "        else:\n",
        "            print(\"It is -1! You inputted an incorrect choice. Choose, Rock, Paper or scissors!\")\n",
        "    else:\n",
        "        print(\"It is -1! You inputted an incorrect choice. Choose, Rock, Paper or scissors!\")\n",
        "    #player was set to True, but we want it to be False so the loop continues\n",
        "    Y_or_N = input(\"Do you want to play Rock, Paper, Scissors again? Type Y for yes and N for no:\")\n",
        "\n",
        "    if Y_or_N == \"Y\" or Y_or_N == \"y\":\n",
        "        compSelection = False\n",
        "    elif Y_or_N == \"N\" or Y_or_N == \"n\":\n",
        "        compSelection = True\n",
        "    else:\n",
        "        print(\"You inputted incorrect Value, I am going to end this game.\")\n",
        "        compSelection = True\n",
        "    result = compSelection\n"
      ],
      "execution_count": 0,
      "outputs": []
    },
    {
      "cell_type": "markdown",
      "metadata": {
        "id": "F_7aaMtoVtpt",
        "colab_type": "text"
      },
      "source": [
        "\n",
        "\n",
        "### P5.PY\n",
        "\n",
        "\n"
      ]
    },
    {
      "cell_type": "code",
      "metadata": {
        "id": "U24EGu3VVtpu",
        "colab_type": "code",
        "colab": {}
      },
      "source": [
        "\"\"\"\n",
        "Play RPS w/Bad Input\n",
        "\"\"\"\n",
        "\"\"\"\n",
        "p1 = None  # can be invalid!\n",
        "p2 = None  # can be invalid!\n",
        "\"\"\"\n",
        "\"\"\"\n",
        "This is the same as the original RPS problem, \n",
        "except that cannot expect the input to be valid. \n",
        "While we *want* `r` or `p` or `s`, there is a possibility \n",
        "that input can be anything like...\n",
        "\n",
        "* `ROCK` (all caps)\n",
        "* `R` (`r` but capitalized)\n",
        "* `PAPrrRR` (incorrectly spelled, upper/lowercased)\n",
        "\n",
        "Implement conditional statements that will sanitize the \n",
        "user input or let user know that input is invalid.\n",
        "\"\"\"\n",
        "\n",
        "\n",
        "import random\n",
        "\n",
        "result = False\n",
        "while result == False:\n",
        "#set player to True\n",
        "    r_p_s_choice = {\"rock\", \"paper\", \"scissors\", \"Rock\", \"Paper\", \"Scissors\"}  # set of items\n",
        "    compSelection = str((random.sample(r_p_s_choice, 1))[0])\n",
        "    player2 = input(\"Player2, please choose Rock, Paper, Scissors?\")\n",
        "\n",
        "    if compSelection == \"Rock\" or compSelection == \"rock\":\n",
        "        if player2 == \"Paper\" or player2 == \"paper\":\n",
        "            print(\"You lose!\", player2, \"covers\", compSelection, \"p2 wins!\")\n",
        "        elif player2 == \"Scissors\" or player2 == \"scissors\":\n",
        "            print(\"You win!\", compSelection, \"smashes\", player2, \"p1 wins!\")\n",
        "        elif player2 == \"Rock\" or player2 == \"rock\":\n",
        "            print(\"It is a tie!\")\n",
        "        else:\n",
        "            print(\"It is -1! You inputted an incorrect choice. Choose, Rock, Paper or scissors!\")\n",
        "    elif compSelection == \"Paper\" or compSelection == \"paper\":\n",
        "        if player2 == \"Scissors\" or player2 == \"scissors\":\n",
        "            print(\"You lose!\", player2, \"cut\", compSelection)\n",
        "        elif player2 == \"Rock\" or player2 == \"rock\":\n",
        "            print(\"You win!\", compSelection, \"covers\", player2)\n",
        "        elif player2 == \"Paper\" or player2 == \"Paper\":\n",
        "            print(\"It is a tie!\")\n",
        "        else:\n",
        "            print(\"It is -1! You inputted an incorrect choice. Choose, Rock, Paper or scissors!\")\n",
        "    elif compSelection == \"Scissors\" or compSelection == \"scissors\":\n",
        "        if player2 == \"Rock\" or player2 == \"rock\":\n",
        "            print(\"You lose...\", player2, \"smashes\", compSelection, \"p2 wins!\")\n",
        "        elif player2 == \"Paper\" or player2 == \"paper\":\n",
        "            print(\"You win!\", compSelection, \"cut\", player2, \"p1 wins!\")\n",
        "        elif player2 == \"Scissors\" or player2 == \"scissors\":\n",
        "            print(\"It is a tie!\")\n",
        "        else:\n",
        "            print(\"It is -1! You inputted an incorrect choice. Choose, Rock, Paper or scissors!\")\n",
        "    else:\n",
        "        print(\"It is -1! You inputted an incorrect choice. Choose, Rock, Paper or scissors!\")\n",
        "    #player was set to True, but we want it to be False so the loop continues\n",
        "    Y_or_N = input(\"Do you want to play Rock, Paper, Scissors again? Type Y for yes and N for no:\")\n",
        "\n",
        "    if Y_or_N == \"Y\" or Y_or_N == \"y\":\n",
        "        compSelection = False\n",
        "    elif Y_or_N == \"N\" or Y_or_N == \"n\":\n",
        "        compSelection = True\n",
        "    else:\n",
        "        print(\"You inputted incorrect Value, I am going to end this game.\")\n",
        "        compSelection = True\n",
        "    result = compSelection"
      ],
      "execution_count": 0,
      "outputs": []
    }
  ]
}